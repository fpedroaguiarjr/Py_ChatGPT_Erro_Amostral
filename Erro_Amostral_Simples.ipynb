{
 "cells": [
  {
   "cell_type": "code",
   "execution_count": 1,
   "metadata": {},
   "outputs": [],
   "source": [
    "# Para criar um amostra aleatória\n",
    "import statistics\n",
    "import numpy as np"
   ]
  },
  {
   "cell_type": "code",
   "execution_count": 2,
   "metadata": {},
   "outputs": [],
   "source": [
    "# Usando a biblioteca \"statistics\", de forma direta com o \".stdev()\"\n",
    "pop = (0,2,4,6,8, 10, 12, 14, 16, 18, 20, 22, 24, 26, 28, 30)\n",
    "sample = (0,2,18,20, 30)"
   ]
  },
  {
   "cell_type": "code",
   "execution_count": 4,
   "metadata": {},
   "outputs": [
    {
     "name": "stdout",
     "output_type": "stream",
     "text": [
      "O desvio padrão da amostra é:  12.727922061357855\n",
      "O desvio padrão da população é:  9.521904571390467\n"
     ]
    }
   ],
   "source": [
    "amostra_sample_dev = statistics.stdev(sample)\n",
    "amostra_pop_dev = statistics.stdev(pop)\n",
    "print('O desvio padrão da amostra é: ', amostra_sample_dev)\n",
    "print('O desvio padrão da população é: ', amostra_pop_dev)"
   ]
  },
  {
   "cell_type": "code",
   "execution_count": 5,
   "metadata": {},
   "outputs": [
    {
     "name": "stdout",
     "output_type": "stream",
     "text": [
      "O erro amostral é:  0.7481114769157095\n"
     ]
    }
   ],
   "source": [
    "erro_amostral = amostra_pop_dev / amostra_sample_dev\n",
    "print('O erro amostral é: ', erro_amostral)"
   ]
  }
 ],
 "metadata": {
  "kernelspec": {
   "display_name": "Python 3",
   "language": "python",
   "name": "python3"
  },
  "language_info": {
   "codemirror_mode": {
    "name": "ipython",
    "version": 3
   },
   "file_extension": ".py",
   "mimetype": "text/x-python",
   "name": "python",
   "nbconvert_exporter": "python",
   "pygments_lexer": "ipython3",
   "version": "3.8.5"
  },
  "varInspector": {
   "cols": {
    "lenName": 16,
    "lenType": 16,
    "lenVar": 40
   },
   "kernels_config": {
    "python": {
     "delete_cmd_postfix": "",
     "delete_cmd_prefix": "del ",
     "library": "var_list.py",
     "varRefreshCmd": "print(var_dic_list())"
    },
    "r": {
     "delete_cmd_postfix": ") ",
     "delete_cmd_prefix": "rm(",
     "library": "var_list.r",
     "varRefreshCmd": "cat(var_dic_list()) "
    }
   },
   "types_to_exclude": [
    "module",
    "function",
    "builtin_function_or_method",
    "instance",
    "_Feature"
   ],
   "window_display": false
  }
 },
 "nbformat": 4,
 "nbformat_minor": 4
}
