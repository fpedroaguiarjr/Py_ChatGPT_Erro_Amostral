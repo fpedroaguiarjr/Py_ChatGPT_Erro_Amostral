{
 "cells": [
  {
   "cell_type": "code",
   "execution_count": 1,
   "metadata": {},
   "outputs": [],
   "source": [
    "# Erro Amostral à partir da biblioteca \"Numpy\"\n",
    "import numpy as np"
   ]
  },
  {
   "cell_type": "code",
   "execution_count": 52,
   "metadata": {},
   "outputs": [],
   "source": [
    "# Amostra aleatória simples\n",
    "data = (0,2,4,6,8, 10, 12, 14, 16, 18, 20, 22, 24, 26, 28, 30)\n",
    "sample = (0,2,18,20,30)"
   ]
  },
  {
   "cell_type": "code",
   "execution_count": 53,
   "metadata": {},
   "outputs": [],
   "source": [
    "# Média da amostra aleatória\n",
    "data_mean = np.mean(data)\n",
    "sample_mean = np.mean(sample)"
   ]
  },
  {
   "cell_type": "code",
   "execution_count": 54,
   "metadata": {},
   "outputs": [],
   "source": [
    "# Desvio padrão com \"ddof=1\"(Ver documentação)\n",
    "data_std = np.std(data, ddof=1)\n",
    "sample_std = np.std(sample,ddof=1)"
   ]
  },
  {
   "cell_type": "code",
   "execution_count": 55,
   "metadata": {},
   "outputs": [],
   "source": [
    "# Cálculo do erro amostral amplo (Ver valor\"1.96\" na documantação)\n",
    "data_error = 1.96 * (data_std / np.sqrt(len(data)))\n",
    "sample_error = 1,96 * (sample_std / np.sqrt(len(sample)))"
   ]
  },
  {
   "cell_type": "code",
   "execution_count": 56,
   "metadata": {},
   "outputs": [
    {
     "name": "stdout",
     "output_type": "stream",
     "text": [
      "Média da população:  15.0\n",
      "Média da amostra:  14.0\n",
      "Desvio padrão da população:  9.521904571390467\n",
      "Desvio pedrão da amostra:  12.727922061357855\n",
      "Erro amostral da população amplo: +/- 4.6657332399813285\n",
      "Erro da amostra amplo: +/- (1, 546.4415796770959)\n"
     ]
    }
   ],
   "source": [
    "print(\"Média da população: \", data_mean)\n",
    "print(\"Média da amostra: \", sample_mean)\n",
    "print(\"Desvio padrão da população: \", data_std)\n",
    "print(\"Desvio pedrão da amostra: \", sample_std)\n",
    "print(\"Erro amostral da população amplo: +/-\", data_error)\n",
    "print(\"Erro da amostra amplo: +/-\", sample_error)"
   ]
  },
  {
   "cell_type": "code",
   "execution_count": 51,
   "metadata": {},
   "outputs": [
    {
     "name": "stdout",
     "output_type": "stream",
     "text": [
      "0.7481114769157095\n",
      "[4.66573324 0.00853839]\n"
     ]
    }
   ],
   "source": [
    "erro_amostral_final = (data_std / sample_std)\n",
    "erro_residual = (data_error / sample_error)\n",
    "print(erro_amostral_final)\n",
    "print(erro_residual)"
   ]
  }
 ],
 "metadata": {
  "kernelspec": {
   "display_name": "Python 3",
   "language": "python",
   "name": "python3"
  },
  "language_info": {
   "codemirror_mode": {
    "name": "ipython",
    "version": 3
   },
   "file_extension": ".py",
   "mimetype": "text/x-python",
   "name": "python",
   "nbconvert_exporter": "python",
   "pygments_lexer": "ipython3",
   "version": "3.8.5"
  },
  "varInspector": {
   "cols": {
    "lenName": 16,
    "lenType": 16,
    "lenVar": 40
   },
   "kernels_config": {
    "python": {
     "delete_cmd_postfix": "",
     "delete_cmd_prefix": "del ",
     "library": "var_list.py",
     "varRefreshCmd": "print(var_dic_list())"
    },
    "r": {
     "delete_cmd_postfix": ") ",
     "delete_cmd_prefix": "rm(",
     "library": "var_list.r",
     "varRefreshCmd": "cat(var_dic_list()) "
    }
   },
   "types_to_exclude": [
    "module",
    "function",
    "builtin_function_or_method",
    "instance",
    "_Feature"
   ],
   "window_display": false
  }
 },
 "nbformat": 4,
 "nbformat_minor": 4
}
